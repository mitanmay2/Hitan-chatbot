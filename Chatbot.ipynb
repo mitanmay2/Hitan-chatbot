{
  "nbformat": 4,
  "nbformat_minor": 0,
  "metadata": {
    "colab": {
      "provenance": [],
      "gpuType": "T4",
      "authorship_tag": "ABX9TyPZ5WK3muoSZeCCt61ISVXp",
      "include_colab_link": true
    },
    "kernelspec": {
      "name": "python3",
      "display_name": "Python 3"
    },
    "language_info": {
      "name": "python"
    },
    "accelerator": "GPU"
  },
  "cells": [
    {
      "cell_type": "markdown",
      "metadata": {
        "id": "view-in-github",
        "colab_type": "text"
      },
      "source": [
        "<a href=\"https://colab.research.google.com/github/mitanmay2/Hitan-chatbot/blob/main/Chatbot.ipynb\" target=\"_parent\"><img src=\"https://colab.research.google.com/assets/colab-badge.svg\" alt=\"Open In Colab\"/></a>"
      ]
    },
    {
      "cell_type": "code",
      "source": [
        "import os\n",
        "\n",
        "os.environ['OPENROUTER_API_KEY'] = \"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\""
      ],
      "metadata": {
        "id": "wBHoLUjQhAqp"
      },
      "execution_count": null,
      "outputs": []
    },
    {
      "cell_type": "code",
      "source": [
        "api_key = os.getenv('OPENROUTER_API_KEY')\n",
        "print(api_key)\n"
      ],
      "metadata": {
        "colab": {
          "base_uri": "https://localhost:8080/"
        },
        "id": "oXurKviphLBS",
        "outputId": "f5fefd1c-37cc-4538-b43c-7f53e9ce9d2f"
      },
      "execution_count": null,
      "outputs": [
        {
          "output_type": "stream",
          "name": "stdout",
          "text": [
            "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\n"
          ]
        }
      ]
    },
    {
      "cell_type": "code",
      "source": [
        "import os\n",
        "print(os.getenv(\"OPENROUTER_API_KEY\"))"
      ],
      "metadata": {
        "colab": {
          "base_uri": "https://localhost:8080/"
        },
        "id": "s1CQkuohhPRG",
        "outputId": "129c2622-50d9-4fc3-de54-3cb02156951d"
      },
      "execution_count": null,
      "outputs": [
        {
          "output_type": "stream",
          "name": "stdout",
          "text": [
            "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\n"
          ]
        }
      ]
    },
    {
      "cell_type": "code",
      "source": [
        "from langchain_openai import ChatOpenAI\n",
        "from langchain_core.prompts import ChatPromptTemplate\n",
        "\n",
        "# Initialize the OpenRouter model via ChatOpenAI\n",
        "llm = ChatOpenAI(\n",
        "    model=\"google/gemini-2.0-flash-thinking-exp-1219:free\",  # Replace with your desired OpenRouter model\n",
        "    openai_api_key=os.getenv(\"OPENROUTER_API_KEY\"),  # Fetches the API key from environment\n",
        "    openai_api_base=\"https://openrouter.ai/api/v1\"  # OpenRouter's API endpoint\n",
        ")\n",
        "\n",
        "# Create a simple prompt template\n",
        "prompt = ChatPromptTemplate.from_template(\"Tell me a short joke about {topic}\")\n",
        "\n",
        "# Combine prompt and model into a chain\n",
        "chain = prompt | llm\n",
        "\n",
        "# Run the chain with an input\n",
        "response = chain.invoke({\"topic\": \"Dogs\"})\n",
        "print(response.content)"
      ],
      "metadata": {
        "colab": {
          "base_uri": "https://localhost:8080/"
        },
        "id": "KrNAoMt1hSsw",
        "outputId": "c3119c16-bd6a-4a1f-fd7f-54a78b7c6694"
      },
      "execution_count": null,
      "outputs": [
        {
          "output_type": "stream",
          "name": "stdout",
          "text": [
            "Why did the dog sit in the shade?\n",
            "\n",
            "Because he didn't want to be a hot dog!\n"
          ]
        }
      ]
    },
    {
      "cell_type": "code",
      "source": [
        "from langchain_core.messages import SystemMessage, HumanMessage , AIMessage\n",
        "\n",
        "\n",
        "messages = [\n",
        "    SystemMessage(content=\"You are a helpful assistant.\"),\n",
        "    HumanMessage(content=\"What’s the weather like on Mars?\")\n",
        "]\n",
        "response = llm.invoke(messages)\n",
        "print(response.content)"
      ],
      "metadata": {
        "colab": {
          "base_uri": "https://localhost:8080/"
        },
        "id": "mumCCUQYiC8Z",
        "outputId": "9d02b797-f82c-4825-9518-c14e6cfb9f47"
      },
      "execution_count": null,
      "outputs": [
        {
          "output_type": "stream",
          "name": "stdout",
          "text": [
            "The weather on Mars is quite different from Earth, and definitely not a place for a picnic! Here's a breakdown of what it's like:\n",
            "\n",
            "**Key Characteristics:**\n",
            "\n",
            "* **Extremely Cold:**  Mars is much further from the Sun than Earth, and its atmosphere is incredibly thin. This means it gets very cold.\n",
            "    * **Average Temperature:** Around -80 degrees Fahrenheit (-60 degrees Celsius).\n",
            "    * **Daily Temperature Range:**  Huge swings in temperature between day and night.  Even on a \"warm\" summer day at the equator, temperatures might reach a comfortable 70 degrees Fahrenheit (20 degrees Celsius) during the day, but plummet to -100 degrees Fahrenheit (-73 degrees Celsius) or colder at night.\n",
            "    * **Polar Regions:** Even colder, with temperatures dropping to -195 degrees Fahrenheit (-126 degrees Celsius) or lower at the poles.\n",
            "\n",
            "* **Thin Atmosphere:**  The Martian atmosphere is about 100 times thinner than Earth's.\n",
            "    * **Pressure:** This means the air pressure is incredibly low, about 1% of Earth's at sea level. You wouldn't be able to survive outside without a pressurized suit.\n",
            "    * **Less Protection:** The thin atmosphere provides very little protection from radiation from the Sun and cosmic rays. It also means heat dissipates quickly.\n",
            "\n",
            "* **Dusty:** Mars is famously red and dusty.\n",
            "    * **Dust Storms:**  Dust storms are common and can range from small, local events to planet-wide storms that can last for weeks or even months, shrouding the entire planet in dust. These storms can dramatically affect temperature and sunlight levels.\n",
            "    * **Dust Devils:**  Smaller, swirling columns of dust, similar to dust devils on Earth, are also frequently observed.\n",
            "\n",
            "* **Windy (Sometimes):**\n",
            "    * **Generally Gentle Breezes:**  Winds are generally light due to the thin atmosphere.\n",
            "    * **Strong Winds During Dust Storms:**  During dust storms, winds can become quite strong, though still not as powerful as the winds in Earth's hurricanes due to the thin air.\n",
            "\n",
            "* **Seasons:** Mars has seasons like Earth, because its axis is tilted. However:\n",
            "    * **Longer Seasons:**  Because Mars' year is about twice as long as Earth's, its seasons are also twice as long.\n",
            "    * **More Extreme Seasons in the South:** Mars' orbit is more elliptical than Earth's, leading to more extreme seasons in the southern hemisphere (hotter summers and colder winters).\n",
            "\n",
            "* **Clouds and Frost:**\n",
            "    * **Water Ice Clouds:**  Thin, high-altitude clouds made of water ice are seen, especially near the equator.\n",
            "    * **Carbon Dioxide Ice Clouds:**  Near the poles and at higher altitudes, clouds of carbon dioxide ice (dry ice) can form.\n",
            "    * **Frost:**  Frost can form on the ground, particularly at night and in colder regions, and can be made of both water ice and carbon dioxide ice.\n",
            "\n",
            "* **No Rain (as we know it):**  It doesn't rain liquid water on Mars because the atmospheric pressure is too low. Any liquid water on the surface would quickly boil away or freeze. However, there might be very light precipitation in the form of frost or snow (carbon dioxide snow at the poles).\n",
            "\n",
            "**In Summary:**\n",
            "\n",
            "Imagine a very, very cold desert with a super thin atmosphere.  It's dusty, often windy, and experiences extreme temperature swings.  While there are clouds and frost, there's no liquid water rain.  The weather on Mars is dynamic, especially due to dust storms and seasonal changes, but it's consistently harsh and inhospitable to life as we know it without significant protection.\n",
            "\n",
            "**We Learn About Martian Weather From:**\n",
            "\n",
            "* **Mars Rovers and Landers:**  Vehicles like Curiosity, Perseverance, and InSight send back daily weather reports, including temperature, pressure, wind, dust levels, and images of clouds and dust devils.\n",
            "* **Mars Orbiters:** Satellites like the Mars Reconnaissance Orbiter monitor the planet's atmosphere, track dust storms, and observe seasonal changes from above.\n",
            "\n",
            "So, while you wouldn't want to pack your beach gear for a trip to Mars, it's a fascinating and dynamic place when it comes to weather!\n"
          ]
        }
      ]
    },
    {
      "cell_type": "code",
      "source": [
        "\n",
        "# Create a simple prompt template\n",
        "prompt = ChatPromptTemplate.from_template(\"Make a note about {topic}\")\n",
        "\n",
        "# Combine prompt and model into a chain\n",
        "chain = prompt | llm\n",
        "\n",
        "# Run the chain with an input\n",
        "response = chain.invoke({\"topic\": \"Dog\"})\n",
        "print(response.content)"
      ],
      "metadata": {
        "colab": {
          "base_uri": "https://localhost:8080/"
        },
        "id": "wJ-Zo3ORiuXd",
        "outputId": "772516a8-6080-4f70-b9bf-81a9760d8027"
      },
      "execution_count": null,
      "outputs": [
        {
          "output_type": "stream",
          "name": "stdout",
          "text": [
            "Okay, here's a note about dogs, covering various aspects:\n",
            "\n",
            "## Note: Dogs - Wonderful Companions & More\n",
            "\n",
            "**What are they?**\n",
            "\n",
            "* **Domesticated Canids:**  Specifically *Canis lupus familiaris*, descended from wolves.  Domesticated for thousands of years.\n",
            "* **Mammals:** Warm-blooded, give birth to live young, nurse their pups.\n",
            "* **Diverse Breeds:**  Huge variety in size, shape, coat, temperament, and purpose due to selective breeding (e.g., Labrador Retrievers, German Shepherds, Poodles, Chihuahuas).\n",
            "* **Senses:** Excellent sense of smell, good hearing, vision adapted for movement and low light.\n",
            "\n",
            "**Key Characteristics:**\n",
            "\n",
            "* **Loyal & Affectionate:** Known for strong bonds with humans. Seek companionship and often eager to please.\n",
            "* **Intelligent & Trainable:**  Varying levels of intelligence, but generally capable of learning commands, tricks, and complex tasks.  Breed plays a factor.\n",
            "* **Social Animals:**  Naturally pack animals, so benefit from social interaction, both with humans and sometimes other dogs.\n",
            "* **Energetic:** Needs vary greatly by breed and age, but most dogs require regular exercise and mental stimulation to stay happy and healthy.\n",
            "* **Communicative:**  Use body language (tail wags, posture), vocalizations (barks, growls, whines), and scent to communicate.\n",
            "\n",
            "**Care & Needs:**\n",
            "\n",
            "* **Basic Needs:** Food, water, shelter, and regular vet care (vaccinations, check-ups, parasite prevention).\n",
            "* **Exercise:**  Daily walks, runs, playtime tailored to breed and energy level.\n",
            "* **Grooming:**  Brushing, bathing, nail trimming, dental care – varies by breed.\n",
            "* **Training & Socialization:**  Essential for good behavior, safety, and well-being. Start early and be consistent.\n",
            "* **Mental Stimulation:**  Puzzle toys, training exercises, playtime, new experiences help prevent boredom and destructive behaviors.\n",
            "* **Love & Attention:** Dogs thrive on positive interaction and affection from their humans.\n",
            "\n",
            "**Benefits of Having a Dog:**\n",
            "\n",
            "* **Companionship:**  Reduce loneliness and provide unconditional love.\n",
            "* **Increased Activity:** Encourage owners to be more active, leading to better physical health.\n",
            "* **Stress Reduction:** Interacting with dogs can lower stress hormones.\n",
            "* **Security:** Can provide a sense of security and protection.\n",
            "* **Fun & Playfulness:**  Bring joy and laughter into homes.\n",
            "* **Working Roles:**  Used in various fields like assistance, therapy, law enforcement, search and rescue, herding, etc.\n",
            "\n",
            "**Things to Consider Before Getting a Dog:**\n",
            "\n",
            "* **Commitment:** Dogs are a long-term commitment (10-15+ years).\n",
            "* **Responsibility:**  Requires significant time, effort, and financial resources.\n",
            "* **Lifestyle Fit:** Breed and individual dog's temperament should match your lifestyle and living situation.\n",
            "* **Training Needs:** Are you prepared to train and socialize a dog properly?\n",
            "* **Financial Costs:** Food, vet bills, grooming, toys, supplies can be expensive.\n",
            "* **Time Commitment:**  Daily walks, feeding, playtime, training all take time.\n",
            "\n",
            "**Important Note:**  Every dog is an individual! Breed generalizations are helpful, but individual personalities can vary significantly. Responsible research and careful consideration are crucial before getting a dog.\n",
            "\n",
            "**This note provides a general overview of dogs. For specific information, research breeds, consult with veterinarians, breeders, and trainers.**\n"
          ]
        }
      ]
    },
    {
      "cell_type": "code",
      "source": [
        "from langchain_openai import ChatOpenAI\n",
        "llm = ChatOpenAI(\n",
        "    model=\"google/gemini-2.0-flash-thinking-exp-1219:free\",  # Replace with your desired OpenRouter model\n",
        "    openai_api_key=os.getenv(\"OPENROUTER_API_KEY\"),  # Fetches the API key from environment\n",
        "    openai_api_base=\"https://openrouter.ai/api/v1\"  # OpenRouter's API endpoint\n",
        ")\n",
        "city = llm.predict(\"What is my future according to you\")\n",
        "print(city)"
      ],
      "metadata": {
        "colab": {
          "base_uri": "https://localhost:8080/"
        },
        "id": "a-VRSItDonTC",
        "outputId": "5c2aaa61-fe10-49a0-8c29-4f9e90ff74b9"
      },
      "execution_count": null,
      "outputs": [
        {
          "output_type": "stream",
          "name": "stderr",
          "text": [
            "<ipython-input-29-b46e3d928e23>:7: LangChainDeprecationWarning: The method `BaseChatModel.predict` was deprecated in langchain-core 0.1.7 and will be removed in 1.0. Use :meth:`~invoke` instead.\n",
            "  city = llm.predict(\"What is my future according to you\")\n"
          ]
        },
        {
          "output_type": "stream",
          "name": "stdout",
          "text": [
            "As a large language model, an AI, I don't have the ability to see the future in a mystical or predictive way.  I can't look into a crystal ball or read tea leaves for you!\n",
            "\n",
            "Think of it this way: my \"knowledge\" comes from the vast amount of text and data I've been trained on from the real world up to my last knowledge update.  I can analyze patterns, understand possibilities based on information about human behavior, trends, and different fields.\n",
            "\n",
            "**So, instead of \"predicting\" your future, I can offer you a perspective based on general principles and possibilities.**  If you give me some information about yourself – your interests, skills, goals, current situation – I can try to provide more tailored and potentially helpful observations.\n",
            "\n",
            "**Without any information from you, here are some very general, positive perspectives I can offer about your future:**\n",
            "\n",
            "* **Full of Potential:**  Everyone's future is inherently full of potential.  You have capabilities and possibilities that are yet to be fully realized. Your future is not a fixed path, but something you actively shape.\n",
            "* **Change and Growth:**  The future is almost certain to involve change.  You will grow, learn, and evolve as a person.  There will be opportunities for new experiences, relationships, and perspectives.\n",
            "* **Based on Your Actions:**  Your future is heavily influenced by the choices you make and the actions you take today and in the coming days, weeks, and years.  You have agency and the ability to steer your own course to a significant degree.\n",
            "* **Unpredictable Adventures:**  Life rarely goes exactly according to plan.  There will likely be some unexpected twists and turns, both positive and challenging. These can lead to new opportunities and directions you might not have even considered.\n",
            "\n",
            "**To give you anything more specific or actually helpful, I'd need to know more about *you*.  Perhaps you could tell me about:**\n",
            "\n",
            "* **Your ambitions and goals:** What do you hope to achieve in life? In your career? In your personal life?\n",
            "* **Your skills and interests:** What are you good at? What do you enjoy doing? What are you curious about?\n",
            "* **Your current situation:**  Are you a student? Working? Looking for a change?  What are your current challenges and opportunities?\n",
            "\n",
            "Once you give me some context, I can use my abilities to:\n",
            "\n",
            "* **Help you brainstorm possibilities:** Based on your interests, we can explore different career paths or areas of study.\n",
            "* **Offer information and resources:**  If you're interested in a particular field, I can provide information about it.\n",
            "* **Help you think through plans and strategies:**  If you have goals, we can discuss steps you might take to reach them.\n",
            "* **Offer encouragement and support:**  Navigating the future can be daunting, and sometimes just having someone (even an AI!) to talk to can be helpful.\n",
            "\n",
            "**In short, I can't *tell* you your future, but I can be a tool to help you *think about* and *shape* it in a positive and informed way.**  Let me know what you'd like to explore, and we can work together!\n"
          ]
        }
      ]
    },
    {
      "cell_type": "code",
      "source": [
        "from langchain_community.utilities.dalle_image_generator import DallEAPIWrapper\n"
      ],
      "metadata": {
        "id": "fUYT0nVapZS2"
      },
      "execution_count": null,
      "outputs": []
    },
    {
      "cell_type": "code",
      "source": [
        "from langchain.llms import OpenAI  # OpenRouter uses OpenAI-compatible API\n",
        "from langchain.chains import ConversationChain\n",
        "from langchain.memory import ConversationBufferMemory\n",
        "import os\n",
        "\n",
        "# Set your OpenRouter API key\n",
        "os.environ[\"OPENROUTER_API_KEY\"] = \"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\""
      ],
      "metadata": {
        "id": "R4VKrxo3q8CE"
      },
      "execution_count": null,
      "outputs": []
    },
    {
      "cell_type": "code",
      "source": [
        "# Add conversation memory\n",
        "memory = ConversationBufferMemory()\n",
        "\n",
        "# Create a conversation chain with the model and memory\n",
        "conversation = ConversationChain(\n",
        "    llm=llm,\n",
        "    memory=memory,\n",
        "    verbose=True  # Set to True to debug and see the prompt structure\n",
        ")"
      ],
      "metadata": {
        "colab": {
          "base_uri": "https://localhost:8080/"
        },
        "id": "8C1IIH-P75eI",
        "outputId": "c7451bb5-e181-4134-cae7-0658a289c170"
      },
      "execution_count": null,
      "outputs": [
        {
          "output_type": "stream",
          "name": "stderr",
          "text": [
            "<ipython-input-40-fae661955ee2>:2: LangChainDeprecationWarning: Please see the migration guide at: https://python.langchain.com/docs/versions/migrating_memory/\n",
            "  memory = ConversationBufferMemory()\n",
            "<ipython-input-40-fae661955ee2>:5: LangChainDeprecationWarning: The class `ConversationChain` was deprecated in LangChain 0.2.7 and will be removed in 1.0. Use :meth:`~RunnableWithMessageHistory: https://python.langchain.com/v0.2/api_reference/core/runnables/langchain_core.runnables.history.RunnableWithMessageHistory.html` instead.\n",
            "  conversation = ConversationChain(\n"
          ]
        }
      ]
    },
    {
      "cell_type": "code",
      "source": [
        "def chat():\n",
        "    print(\"Chatbot: Hello! I’m powered by OpenRouter. How can I help you today? (Type 'exit' to quit)\")\n",
        "    while True:\n",
        "        user_input = input(\"You: \")\n",
        "        if user_input.lower() == \"exit\":\n",
        "            print(\"Chatbot: See you later!\")\n",
        "            break\n",
        "        response = conversation.predict(input=user_input)\n",
        "        print(f\"Chatbot: {response}\")\n",
        "\n",
        "# Start the chatbot\n",
        "if __name__ == \"__main__\":\n",
        "    chat()"
      ],
      "metadata": {
        "colab": {
          "base_uri": "https://localhost:8080/"
        },
        "id": "AjVtoSam7_hN",
        "outputId": "8500b7e9-84f4-4760-9adb-1aaa3735455f"
      },
      "execution_count": null,
      "outputs": [
        {
          "output_type": "stream",
          "name": "stdout",
          "text": [
            "Chatbot: Hello! I’m powered by OpenRouter. How can I help you today? (Type 'exit' to quit)\n",
            "You: How to impress crush in 2025\n",
            "\n",
            "\n",
            "\u001b[1m> Entering new ConversationChain chain...\u001b[0m\n",
            "Prompt after formatting:\n",
            "\u001b[32;1m\u001b[1;3mThe following is a friendly conversation between a human and an AI. The AI is talkative and provides lots of specific details from its context. If the AI does not know the answer to a question, it truthfully says it does not know.\n",
            "\n",
            "Current conversation:\n",
            "Human: Which movie trendig in bollywood in 2025\n",
            "AI: Oh, that's a super interesting question! Predicting trends in Bollywood movies for 2025 is a bit like trying to see into a crystal ball!  It's still a few years away, and the film industry is so dynamic, things change really quickly.  No one can say for sure exactly what will be \"trending\" then, but we can definitely make some informed guesses based on current patterns and what's been popular lately.\n",
            "\n",
            "If I had to venture a guess, based on what I'm seeing now and how things are evolving, here are a few things that *might* be trending in Bollywood in 2025:\n",
            "\n",
            "*   **Pan-Indian Films Will Probably Still Be Huge:**  The success of movies like *RRR*, *KGF*, and *Pushpa* has really shown that audiences are loving movies that cross language barriers. I think in 2025, we'll probably see even more of these \"pan-Indian\" films being made, maybe with even bigger stars from different regions collaborating. They might refine the formula even more, perhaps with more focus on universally relatable stories and even more spectacular action and visuals to draw audiences into theaters.\n",
            "\n",
            "*   **Action and Spectacle will Likely Continue to Dominate:** Big, visually stunning action movies have been a Bollywood staple for a while, and they're still incredibly popular.  Think about the success of movies like *Pathaan* and *Jawan* recently. I wouldn't be surprised if in 2025, we see even bigger budget action films, with even more advanced CGI and special effects trying to push the boundaries of cinematic spectacle.  Audiences seem to really enjoy that larger-than-life experience on the big screen.\n",
            "\n",
            "*   **Maybe a Rise in  'Grounded' Action or Thrillers Alongside the Big Budget Ones?** While spectacle action will be there, there might also be a trend towards more realistic or \"grounded\" action or thriller films.  Think along the lines of something like *Vikram Vedha* or even some of the spy thrillers – maybe more gritty and story-driven action alongside the over-the-top stuff.\n",
            "\n",
            "*   **OTT's Influence Will Be Even Stronger:**  Streaming platforms are just getting bigger and bigger in India. By 2025, they will likely have an even larger impact on what kinds of movies are being made and watched. We might see more movies specifically designed for streaming platforms, focusing on different genres and formats that work well for at-home viewing.  Perhaps more long-form storytelling and series-like movie formats.\n",
            "\n",
            "*   **Socially Relevant Films Might Find a Niche, but in New Ways:** Bollywood has a history of social dramas, and these might continue, but maybe they will evolve to become more nuanced and less preachy.  Audiences are becoming more sophisticated, so films with social messages will probably need to be even more cleverly written and entertaining to connect. Maybe blending social themes with other genres like comedy or thriller could be a way to go.\n",
            "\n",
            "*   **Nostalgia Might Play a Bigger Role:**  We've seen remakes and reboots are still common in Bollywood. By 2025, we might see even more leaning into nostalgia, perhaps bringing back beloved franchises or characters from the past, but with a modern twist.  It's something Hollywood has been doing successfully, and Bollywood might explore this further.\n",
            "\n",
            "*   **The Star System Will Probably Still Be Important, but Evolving:**  Star power is huge in Bollywood, and big stars will still draw audiences. But maybe the type of stardom is changing.  Perhaps audiences will be looking for stars who are also really good actors and storytellers, beyond just being charismatic figures. And maybe new kinds of stars will emerge, possibly from OTT platforms.\n",
            "\n",
            "**However, it's really important to remember these are just speculations!** Bollywood trends are constantly evolving, and audience tastes can shift unexpectedly.  A movie that becomes a surprise hit in 2024 could completely change the direction of what gets made in 2025.  New technologies, platforms, and global influences can also play a big role.\n",
            "\n",
            "So, while I can offer these potential trends based on what I'm analyzing now,  the truth is,  we'll have to wait until 2025 to really see what Bollywood audiences are embracing!  It's going to be fascinating to watch it unfold!  Do you have any particular genres or types of movies you *hope* will be trending in 2025?  I'd love to hear your thoughts!\n",
            "Human: write a python code of square root\n",
            "AI: ```python\n",
            "import math\n",
            "\n",
            "def calculate_square_root(number):\n",
            "  \"\"\"\n",
            "  Calculates the square root of a given number.\n",
            "\n",
            "  Args:\n",
            "    number: The number for which to calculate the square root.\n",
            "\n",
            "  Returns:\n",
            "    The square root of the number, or an error message if the input is invalid.\n",
            "  \"\"\"\n",
            "  if number < 0:\n",
            "    return \"Cannot calculate the square root of a negative number. Please enter a non-negative number.\"\n",
            "  else:\n",
            "    return math.sqrt(number)\n",
            "\n",
            "# Get input from the user\n",
            "try:\n",
            "  num_input = float(input(\"Enter a number to find its square root: \"))\n",
            "  result = calculate_square_root(num_input)\n",
            "  print(f\"The square root of {num_input} is: {result}\")\n",
            "except ValueError:\n",
            "  print(\"Invalid input. Please enter a valid number.\")\n",
            "```\n",
            "\n",
            "**Explanation of the code:**\n",
            "\n",
            "1.  **`import math`**: This line imports the `math` module in Python. The `math` module provides access to various mathematical functions, including `math.sqrt()` which is used to calculate the square root of a number.\n",
            "\n",
            "2.  **`def calculate_square_root(number):`**: This defines a function named `calculate_square_root` that takes one argument, `number`.  Functions are reusable blocks of code.  This function is designed to specifically calculate the square root.\n",
            "\n",
            "3.  **`\"\"\"Docstring\"\"\"`**: The lines enclosed in triple quotes `\"\"\" \"\"\"` are a docstring (documentation string). It's good practice to include docstrings to explain what a function does, its arguments, and what it returns. This helps in understanding the code later on.\n",
            "\n",
            "4.  **`if number < 0:`**: This line checks if the input `number` is less than 0 (i.e., negative).  Square roots of negative numbers result in complex numbers in mathematics. In the context of basic square root calculation in Python, we often handle negative inputs by returning an error message or raising an exception.\n",
            "\n",
            "5.  **`return \"Cannot calculate the square root of a negative number. Please enter a non-negative number.\"`**: If the number is negative, this line returns a user-friendly message indicating that the square root of a negative number cannot be calculated (in the real number domain).\n",
            "\n",
            "6.  **`else:`**: If the number is not negative (i.e., it's zero or positive), the code inside the `else` block is executed.\n",
            "\n",
            "7.  **`return math.sqrt(number)`**: This is the core of the square root calculation. `math.sqrt(number)` from the imported `math` module calculates the square root of the `number` and the `return` statement sends this calculated square root back as the result of the function.\n",
            "\n",
            "8.  **`# Get input from the user`**: This is a comment explaining the following section of the code. Comments are lines that are ignored by the Python interpreter and are used to add explanations to the code.\n",
            "\n",
            "9.  **`try:`**: The `try...except` block is used for error handling.  It attempts to execute the code within the `try` block. If an error occurs, instead of the program crashing, the code within the `except` block is executed.\n",
            "\n",
            "10. **`num_input = float(input(\"Enter a number to find its square root: \"))`**:\n",
            "    *   `input(\"Enter a number to find its square root: \")` displays the message \"Enter a number to find its square root: \" to the user and waits for the user to type something and press Enter.  Whatever the user types is returned as a string.\n",
            "    *   `float(...)` attempts to convert the string entered by the user into a floating-point number.  We use `float` to allow for decimal inputs as well. The converted number is then stored in the variable `num_input`.\n",
            "\n",
            "11. **`result = calculate_square_root(num_input)`**: This line calls (executes) the `calculate_square_root` function that we defined earlier, passing the user's input number (`num_input`) as the argument. The function calculates the square root (or returns an error message if the input was negative) and the result is stored in the `result` variable.\n",
            "\n",
            "12. **`print(f\"The square root of {num_input} is: {result}\")`**:  This line prints the result to the console.  It uses an f-string (formatted string literal) to create a readable output message. It displays the original number entered by the user (`num_input`) and the calculated square root (`result`).\n",
            "\n",
            "13. **`except ValueError:`**: This `except` block specifically handles `ValueError` exceptions. A `ValueError` can occur if the user enters something that cannot be converted to a float (e.g., if they type letters instead of numbers).\n",
            "\n",
            "14. **`print(\"Invalid input. Please enter a valid number.\")`**: If a `ValueError` occurs during the conversion to float, this line prints an error message to the user, indicating that they should enter a valid number.\n",
            "\n",
            "**How to run this code:**\n",
            "\n",
            "1.  Save the code as a Python file (e.g., `square_root.py`).\n",
            "2.  Open a terminal or command prompt.\n",
            "3.  Navigate to the directory where you saved the file using the `cd` command (e.g., `cd Documents/Python`).\n",
            "4.  Run the script using the command `python square_root.py`.\n",
            "5.  The program will prompt you to \"Enter a number to find its square root: \". Type a number and press Enter.\n",
            "6.  The program will then output the square root of the number.\n",
            "\n",
            "Let me know if you would like to explore other ways to calculate square roots in Python or want to modify this code in any way! 😊\n",
            "Human: How to impress crush in 2025\n",
            "AI:\u001b[0m\n",
            "\n",
            "\u001b[1m> Finished chain.\u001b[0m\n",
            "Chatbot: Oh, impressing a crush in 2025!  That's a delightful question, and a really fun one to think about.  Just like predicting Bollywood trends, nailing down exactly what will \"impress\" someone is always a bit of an adventure, because people are so wonderfully unique. What sparkles for one person might be just alright for another, you know?\n",
            "\n",
            "But, thinking about the direction things are heading and what generally makes people connect, we can definitely brainstorm some ideas that *might* be particularly appealing in 2025.  It's not just about grand gestures anymore, it's often about authenticity and genuinely resonating with someone.\n",
            "\n",
            "So, instead of thinking of it as some kind of formula, let's explore some avenues that could help you create a real connection and maybe, just maybe, make a positive impression on your crush in 2025!\n",
            "\n",
            "Here are a few areas to consider, blending what's perennially attractive with some potential 2025 vibes:\n",
            "\n",
            "*   **Be Genuinely and Authentically YOU (Still the Foundation!):**  This is evergreen advice, but in a world that's increasingly digital and sometimes curated online, genuine authenticity can be incredibly refreshing. By 2025, people might be even *more* attuned to when someone is being real versus putting on a facade.\n",
            "    *   **Embrace your quirks and passions:**  What are you truly interested in? What makes you tick?  Don't be afraid to let those aspects of yourself shine.  Enthusiasm is contagious!  If you love astrophysics, talk about it! If you're passionate about pottery, share your creations!\n",
            "    *   **Be comfortable in your own skin:**  Confidence comes from self-acceptance.  Work on being comfortable and happy with who you are.  This isn't about being perfect (nobody is!), it's about embracing your strengths and weaknesses with self-compassion. When you're comfortable with yourself, that genuine self-assurance is often naturally attractive.\n",
            "\n",
            "*   **Show Genuine Interest in *Them* (Active Listening is Key - Always!):**  People love to feel seen and heard. In 2025, with potentially even more digital noise around, truly listening and being present in conversations will likely stand out.\n",
            "    *   **Ask thoughtful questions and *actually* listen to the answers:**  Don't just go through the motions of asking questions. Be genuinely curious about *their* thoughts, feelings, experiences, and dreams.  Follow up on what they say, show you remember details, and ask further questions based on their responses.  This shows you're truly engaged and interested in them as a person.\n",
            "    *   **Pay attention to their non-verbal cues:**  Are they energetic?  Are they more reserved?  Do they seem excited about certain topics?  Paying attention to body language and tone can give you clues about their personality and what resonates with them. Meeting them where they are, in terms of energy levels and communication style, can be a subtle way to show you're attuned to them.\n",
            "\n",
            "*   **Develop Interesting Skills and Hobbies (Personal Growth is Attractive):**  Having passions and interests that you're actively pursuing is often seen as attractive.  It shows you're engaged with life and have something to bring to the table.  And by 2025, continuous learning might be even more valued.\n",
            "    *   **It doesn't have to be \"impressive\" in a traditional sense, just *interesting* to *you*:**  Learn to code, pick up a musical instrument, get into photography, volunteer for a cause you believe in, explore a new language, delve into history, master a cooking technique – anything that genuinely sparks your curiosity and allows you to grow. It's the passion and engagement, not just the skill itself, that can be appealing.\n",
            "    *   **Share your skills and hobbies *organically*:**  Don't just brag about what you can do.  Find natural ways to share your interests. If you're learning guitar, maybe mention you're excited about a lesson you have coming up. If you're into photography, maybe share a cool photo you took (if it's relevant to the conversation, of course!).  It's about subtly revealing interesting facets of yourself, not grandstanding.\n",
            "\n",
            "*   **Kindness, Empathy, and Respect (Timeless and Universally Appreciated):**  These qualities are always in style and will definitely still be huge by 2025.  Treating others with kindness and respect is fundamental to building any positive relationship.\n",
            "    *   **Practice genuine kindness in all your interactions:**  Be kind not just to your crush, but to everyone you encounter – friends, family, strangers, even people who might be having a bad day.  Kindness is a reflection of your character.\n",
            "    *   **Show empathy and understanding:**  Try to see things from their perspective.  Be supportive when they're going through tough times.  Celebrate their successes with them.  Empathy builds deep connections.\n",
            "    *   **Respect their boundaries and values:**  Pay attention to what's important to them.  Respect their opinions, even if you disagree.  Respect their personal space and communication preferences.  Showing respect is a cornerstone of any healthy interaction.\n",
            "\n",
            "*   **Humor and Lightheartedness (Laughter is Still the Best Medicine!):**   Being able to laugh together and share lighthearted moments is a wonderful way to bond.  Humor can ease tension, create positive memories, and simply make spending time together enjoyable.\n",
            "    *   **Develop your sense of humor, but keep it appropriate for the situation and person:**  Everyone has a different sense of humor.  Observe what kind of things make your crush laugh (or not laugh!).  Self-deprecating humor can often be charming, while being able to poke fun at silly situations together can be fun.  Just avoid humor that could be offensive or hurtful.\n",
            "    *   **Don't be afraid to be a little playful and have fun:**  Life is serious enough sometimes!  Be willing to be silly, engage in lighthearted banter (if that's the dynamic), and create fun, memorable experiences together (even simple ones, like going for a spontaneous ice cream walk).\n",
            "\n",
            "*   **Tech Savvy with a Human Touch (Navigating 2025's Digital Landscape):**  In 2025, being comfortable with technology might be even more integrated into daily life.  But it's about using tech to *enhance* connection, not replace it.\n",
            "    *   **Use technology in thoughtful ways, not just for superficial interactions:**  Instead of just liking their posts, maybe send them a thoughtful article you think they'd find interesting based on something they mentioned.  If you're both into gaming, maybe invite them to play online together.  Use tech as a tool to deepen connection, not just for shallow digital engagement.\n",
            "    *   **Balance digital and in-person interactions:**  While technology is great, face-to-face time is still incredibly valuable for building real connections.  Don't let digital communication replace in-person interactions entirely.  Make an effort to spend quality time together offline.\n",
            "\n",
            "*   **Show You Care About Things Beyond Yourself (Values and Purpose):**  Demonstrating that you're interested in something bigger than just your own personal bubble can be very appealing.  By 2025, awareness of social and environmental issues might be even more prominent.\n",
            "    *   **Be passionate about something meaningful (could be anything!):**  Do you care about environmental conservation?  Animal welfare?  Social justice?  Creative expression?  Having values and caring about something deeply is attractive.\n",
            "    *   **Participate in activities that reflect your values (if appropriate to share):**  Volunteering, supporting a cause, engaging in creative projects that have a positive impact – these actions can speak volumes about your character.  Again, share these organically and authentically, not in a boastful way.\n",
            "\n",
            "**Important Reminders for 2025 (and any year!):**\n",
            "\n",
            "*   **Focus on building a genuine connection, not just \"impressing.\"** True connection is always more rewarding than superficial charm.\n",
            "*   **Be patient and respectful of their pace.**  Don't rush things or put pressure on them.\n",
            "*   **Rejection is a part of life.**  Not every crush will turn into a relationship, and that's okay!  Focus on being a good person and learning from each experience.\n",
            "*   **Don't lose yourself in the process of trying to \"impress\" someone.** Stay true to who you are and what you believe in.  The right person will appreciate you for you.\n",
            "\n",
            "Ultimately, the most \"impressive\" thing you can do in 2025, or any year, is to be a kind, authentic, and genuinely interested human being.  When you focus on building a real connection and being yourself, you have the best chance of making a positive and lasting impression.\n",
            "\n",
            "What do you think?  Is there anything specific about your crush you think might be helpful to consider?  Perhaps something about their interests or personality?  I'd love to brainstorm further if you have more details! 😊\n"
          ]
        }
      ]
    },
    {
      "cell_type": "code",
      "source": [],
      "metadata": {
        "colab": {
          "base_uri": "https://localhost:8080/",
          "height": 106
        },
        "id": "5pE8sSvL8D0W",
        "outputId": "e2ab11b1-576e-423c-a9b2-e63f9395e366"
      },
      "execution_count": null,
      "outputs": [
        {
          "output_type": "error",
          "ename": "SyntaxError",
          "evalue": "invalid syntax (<ipython-input-42-9991fa39c7e9>, line 1)",
          "traceback": [
            "\u001b[0;36m  File \u001b[0;32m\"<ipython-input-42-9991fa39c7e9>\"\u001b[0;36m, line \u001b[0;32m1\u001b[0m\n\u001b[0;31m    python openrouter_chatbot.py\u001b[0m\n\u001b[0m           ^\u001b[0m\n\u001b[0;31mSyntaxError\u001b[0m\u001b[0;31m:\u001b[0m invalid syntax\n"
          ]
        }
      ]
    },
    {
      "cell_type": "code",
      "source": [],
      "metadata": {
        "id": "VB4Uub-W8oyi"
      },
      "execution_count": null,
      "outputs": []
    }
  ]
}